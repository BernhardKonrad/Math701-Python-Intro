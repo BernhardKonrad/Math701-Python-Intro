{
 "metadata": {
  "name": "Math701-Python-Intro"
 },
 "nbformat": 3,
 "nbformat_minor": 0,
 "worksheets": [
  {
   "cells": [
    {
     "cell_type": "heading",
     "level": 1,
     "metadata": {},
     "source": [
      "Math 701 - Introduction to Python"
     ]
    },
    {
     "cell_type": "markdown",
     "metadata": {},
     "source": [
      "Based on material from [Software Carpentry](http://software-carpentry.org/) ![SWC](http://www.data2semantics.org/bootcamp/img/software-carpentry-logo.png)"
     ]
    },
    {
     "cell_type": "markdown",
     "metadata": {},
     "source": [
      "IPython has more useful features for interactive use than the standard python interpreter, but it works in the same way--it is interactive, and you get there from the command line.  IPython Notebook uses javascript to allow you to enter python commands in your browser and show you the result in the browser.  We'll use it from here on out."
     ]
    },
    {
     "cell_type": "markdown",
     "metadata": {},
     "source": [
      "## Navigating in IPython Notebook\n",
      "\n",
      "The box above is called the input cell; commands you put here will be fed to the python interpreter one at a time when you press **Shift-ENTER**.  \n",
      "\n",
      "The output of the command, or the error message, appears below the line you entered it on.\n",
      "\n",
      "The panel which may appear on the left has some notebook options; you can minimize the panel by double-clicking on the bar separating the windows. "
     ]
    },
    {
     "cell_type": "code",
     "collapsed": false,
     "input": [
      "sayHello = \"Hello World!\"\n",
      "print sayHello"
     ],
     "language": "python",
     "metadata": {},
     "outputs": []
    },
    {
     "cell_type": "markdown",
     "metadata": {},
     "source": [
      "Up and down arrows will allow you to move the cursor to different cells in the notebook, including these cells containing text (which you can edit in your browser).  \n",
      "\n",
      "Only the cells for which you press Shift-ENTER or Control-ENTER will be executed by the python interpreter.   "
     ]
    },
    {
     "cell_type": "markdown",
     "metadata": {},
     "source": [
      "***\n",
      "\n",
      "The IPython notebook also renders markdown, which itself renders simple $\\LaTeX$:\n",
      "    \n",
      "$$f^{(n)}(z) = \\frac{n!}{2\\pi i} \\oint_\\gamma \\frac{f(w)}{(w-z)^{n+1}}\\,dw$$\n",
      "\n",
      "But also allows for simple lists and much more\n",
      "\n",
      "* indeed\n",
      "* this is\n",
      "* so easy!\n",
      "\n",
      "***"
     ]
    },
    {
     "cell_type": "markdown",
     "metadata": {},
     "source": [
      "You can enter the same line over and over again into the interpreter.  It's weird, but it's life. "
     ]
    },
    {
     "cell_type": "code",
     "collapsed": false,
     "input": [
      "i = 0"
     ],
     "language": "python",
     "metadata": {},
     "outputs": []
    },
    {
     "cell_type": "markdown",
     "metadata": {},
     "source": [
      "**Shift-ENTER** executes and moves to the next cell.  \n",
      "\n",
      "**Control-ENTER** (**Cmd-ENTER** on Macs) executes the cell and does *not* move to the next cell.  \n",
      "\n",
      "Try entering this cell a few times:  "
     ]
    },
    {
     "cell_type": "code",
     "collapsed": false,
     "input": [
      "i = i + 1\n",
      "print i"
     ],
     "language": "python",
     "metadata": {},
     "outputs": []
    },
    {
     "cell_type": "markdown",
     "metadata": {},
     "source": [
      "## Getting Help\n",
      "\n",
      "\n",
      "\n",
      "IPython has some nice help features. Let's say we want to know more about the integer data type. There are at least two ways to do this task:"
     ]
    },
    {
     "cell_type": "code",
     "collapsed": false,
     "input": [
      "help(int)"
     ],
     "language": "python",
     "metadata": {},
     "outputs": []
    },
    {
     "cell_type": "code",
     "collapsed": false,
     "input": [
      "int?"
     ],
     "language": "python",
     "metadata": {},
     "outputs": []
    },
    {
     "cell_type": "markdown",
     "metadata": {},
     "source": [
      "If you wanted to see all the built-in commands available for something, use the `dir` command. Check out all of the methods of the object \"Hello world\", which are shared by all objects of the str type."
     ]
    },
    {
     "cell_type": "code",
     "collapsed": false,
     "input": [
      "dir(\"Hello world\")"
     ],
     "language": "python",
     "metadata": {},
     "outputs": []
    },
    {
     "cell_type": "markdown",
     "metadata": {},
     "source": [
      "There's a method that looks important -- `.swapcase()`.  Let's see what it does:  "
     ]
    },
    {
     "cell_type": "code",
     "collapsed": false,
     "input": [
      "str.swapcase?"
     ],
     "language": "python",
     "metadata": {},
     "outputs": []
    },
    {
     "cell_type": "code",
     "collapsed": false,
     "input": [
      "\"Hello world\".upper()\n",
      "\"Hellow world\".islower()"
     ],
     "language": "python",
     "metadata": {},
     "outputs": []
    },
    {
     "cell_type": "markdown",
     "metadata": {},
     "source": [
      "## Executing code in files\n",
      "\n",
      "If your code is in a file, you can execute it from the IPython shell with the **%run** command. Execute `hello.py` like so"
     ]
    },
    {
     "cell_type": "code",
     "collapsed": false,
     "input": [
      "%run hello.py"
     ],
     "language": "python",
     "metadata": {},
     "outputs": []
    },
    {
     "cell_type": "markdown",
     "metadata": {},
     "source": [
      "*Ooops.*  We misspelled **hello.py**, and python is giving us an error message.  Change the line above to hello.py, hit **Shift-ENTER**, and see what it does."
     ]
    },
    {
     "cell_type": "markdown",
     "metadata": {},
     "source": [
      "With the **!** you can also run bash commands from here"
     ]
    },
    {
     "cell_type": "code",
     "collapsed": false,
     "input": [
      "!whoami\n",
      "!pwd"
     ],
     "language": "python",
     "metadata": {},
     "outputs": []
    },
    {
     "cell_type": "markdown",
     "metadata": {},
     "source": [
      "## Basic Python data structures"
     ]
    },
    {
     "cell_type": "markdown",
     "metadata": {},
     "source": [
      "### Lists\n",
      "\n",
      "A **list** is an ordered, indexable collection of data. Lets say you have collected some voltage data."
     ]
    },
    {
     "cell_type": "code",
     "collapsed": false,
     "input": [
      "voltages = [-2.0, -1.0, 0.0, 1.0, 2.0]"
     ],
     "language": "python",
     "metadata": {},
     "outputs": []
    },
    {
     "cell_type": "code",
     "collapsed": false,
     "input": [
      "type(voltages)"
     ],
     "language": "python",
     "metadata": {},
     "outputs": []
    },
    {
     "cell_type": "markdown",
     "metadata": {},
     "source": [
      "Python lists are indexed from zero.  List elements can be called by using a negative index as well, to count backwards"
     ]
    },
    {
     "cell_type": "code",
     "collapsed": false,
     "input": [
      "print voltages[0]\n",
      "print voltages[2]\n",
      "print voltages[-1]\n",
      "print voltages[-len(voltages)]"
     ],
     "language": "python",
     "metadata": {},
     "outputs": []
    },
    {
     "cell_type": "code",
     "collapsed": false,
     "input": [
      "print voltages[2:]\n",
      "print voltages[:3]"
     ],
     "language": "python",
     "metadata": {},
     "outputs": []
    },
    {
     "cell_type": "markdown",
     "metadata": {},
     "source": [
      "There is methods for appending and removing items, as well as for extending lists"
     ]
    },
    {
     "cell_type": "code",
     "collapsed": false,
     "input": [
      "print voltages\n",
      "voltages.append(3.0)\n",
      "print voltages\n",
      "voltages.extend([1.5, -3.0])\n",
      "print voltages"
     ],
     "language": "python",
     "metadata": {},
     "outputs": []
    },
    {
     "cell_type": "markdown",
     "metadata": {},
     "source": [
      "Note that a list can contain heterogeneous data:"
     ]
    },
    {
     "cell_type": "code",
     "collapsed": false,
     "input": [
      "data_list = [\"experiment: current vs. voltage\", \n",
      "        \"run\", 47,\n",
      "        \"temperature\", 372.756, \n",
      "        \"current\", [-1.0, -0.5, 0.0, 0.5, 1.0], \n",
      "        \"voltage\", [-2.0, -1.0, 0.0, 1.0, 2.0],\n",
      "        ]\n",
      "print data_list\n",
      "print type(data_list[6])"
     ],
     "language": "python",
     "metadata": {},
     "outputs": []
    },
    {
     "cell_type": "markdown",
     "metadata": {},
     "source": [
      "### Dictionaries\n",
      "\n",
      "A Python dictionary is a unordered collection of key-value pairs.  Dictionaries are by far the most important data type in Python. The key is a way to name the data, and the value is the data itself. Here's a way to create a dictionary that contains all the data in our data.dat file in a more sensible way than a list."
     ]
    },
    {
     "cell_type": "code",
     "collapsed": false,
     "input": [
      "data_dict = {\"experiment\": \"current vs. voltage\",\n",
      "        \"run\": 47,\n",
      "        \"temperature\": 372.756, \n",
      "        \"currents\": [-1.0, -0.5, 0.0, 0.5, 1.0], \n",
      "        \"voltages\": [-2.0, -1.0, 0.0, 1.0, 2.0],\n",
      "        }\n",
      "print type(data_dict)\n",
      "print data_dict"
     ],
     "language": "python",
     "metadata": {},
     "outputs": []
    },
    {
     "cell_type": "markdown",
     "metadata": {},
     "source": [
      "This model is clearly better because you no longer have to remember that the run number is in the second position of the list, you just refer directly to \"run\":"
     ]
    },
    {
     "cell_type": "code",
     "collapsed": false,
     "input": [
      "print data_dict[\"voltages\"]\n",
      "print data_dict[\"currents\"][-1]\n",
      "data_dict[\"temperature\"] = 3275.39\n",
      "print data_dict[\"temperature\"]"
     ],
     "language": "python",
     "metadata": {},
     "outputs": []
    },
    {
     "cell_type": "markdown",
     "metadata": {},
     "source": [
      "You can also add new keys to the dictionary.  Note that dictionaries are indexed with square braces, just like lists--they look the same, even though they're very different."
     ]
    },
    {
     "cell_type": "code",
     "collapsed": false,
     "input": [
      "data_dict[\"user\"] = \"Johann G. von Ulm\""
     ],
     "language": "python",
     "metadata": {},
     "outputs": []
    },
    {
     "cell_type": "markdown",
     "metadata": {},
     "source": [
      "Dictionaries, like strings, lists, and all the rest, have built-in methods. Lets say you wanted all the keys from a particular dictionary or all values:"
     ]
    },
    {
     "cell_type": "code",
     "collapsed": false,
     "input": [
      "print \"all keys:\"\n",
      "print data_dict.keys()\n",
      "print \"---\"\n",
      "print \"all values:\"\n",
      "print data_dict.values()"
     ],
     "language": "python",
     "metadata": {},
     "outputs": []
    },
    {
     "cell_type": "markdown",
     "metadata": {},
     "source": [
      "### Assigning Variables to Other Variables\n",
      "\n",
      "Something that might cause you headaches in the future is how python deals with assignment of one variable to another. When you set a variable equal to another, both variables point to the same thing. Changing the first one ends up changing the second. Be careful about this fact."
     ]
    },
    {
     "cell_type": "code",
     "collapsed": false,
     "input": [
      "a = [1, 5]\n",
      "b = a\n",
      "a.append(10)\n",
      "print a\n",
      "print b\n",
      "print a is b"
     ],
     "language": "python",
     "metadata": {},
     "outputs": []
    },
    {
     "cell_type": "markdown",
     "metadata": {},
     "source": [
      "To actually make a copy of a list, use the builtin method."
     ]
    },
    {
     "cell_type": "code",
     "collapsed": false,
     "input": [
      "a = [1, 5]\n",
      "b = list(a)\n",
      "a.append(10)\n",
      "print a\n",
      "print b\n",
      "print a is b"
     ],
     "language": "python",
     "metadata": {},
     "outputs": []
    },
    {
     "cell_type": "markdown",
     "metadata": {},
     "source": [
      "There's a ton more to know about lists, but let's press on. Check out [Dive Into Python](http://www.diveintopython.net/toc/index.html) or the [Python documentation](http://docs.python.org/2/) for more info."
     ]
    },
    {
     "cell_type": "markdown",
     "metadata": {},
     "source": [
      "# Simple data analysis"
     ]
    },
    {
     "cell_type": "markdown",
     "metadata": {},
     "source": [
      "We want to analyze and visualize a simple data set. We are given **`pageviews.csv`**, the click statistics for the [Math Exam Resources Wiki](http://wiki.ubc.ca/Science:Math_Exam_Resources) for the previous winter term (January 1st - April 30th 2013). For each day it records the total number of clicks.\n",
      "\n",
      "Our task is to display a graph with the days on the *x*-axis, and the number of clicks on that day on the *y*-axis."
     ]
    },
    {
     "cell_type": "markdown",
     "metadata": {},
     "source": [
      "***"
     ]
    },
    {
     "cell_type": "markdown",
     "metadata": {},
     "source": [
      "At first we read the file and display its content"
     ]
    },
    {
     "cell_type": "code",
     "collapsed": false,
     "input": [
      "print range(4)"
     ],
     "language": "python",
     "metadata": {},
     "outputs": []
    },
    {
     "cell_type": "code",
     "collapsed": false,
     "input": [
      "for number in range(5):\n",
      "    print number"
     ],
     "language": "python",
     "metadata": {},
     "outputs": []
    },
    {
     "cell_type": "code",
     "collapsed": false,
     "input": [
      "f = open('pageviews.csv','r')\n",
      "for line in f:\n",
      "    print line.strip()\n",
      "f.close()"
     ],
     "language": "python",
     "metadata": {},
     "outputs": []
    },
    {
     "cell_type": "markdown",
     "metadata": {},
     "source": [
      "We see that some files are header lines. We only want to work with the data files. So let's write a **function** that returns if the line contains data. Below is the skeleton, *please fill in the details*."
     ]
    },
    {
     "cell_type": "code",
     "collapsed": false,
     "input": [
      "def contains_data_line(myline):\n",
      "    contains_data = '/' in myline\n",
      "    return contains_data"
     ],
     "language": "python",
     "metadata": {},
     "outputs": []
    },
    {
     "cell_type": "markdown",
     "metadata": {},
     "source": [
      "Check your work here, you should now only see the data lines."
     ]
    },
    {
     "cell_type": "code",
     "collapsed": false,
     "input": [
      "f = open('pageviews.csv','r')\n",
      "for line in f:\n",
      "    if contains_data_line(line):\n",
      "        print line\n",
      "f.close()"
     ],
     "language": "python",
     "metadata": {},
     "outputs": []
    },
    {
     "cell_type": "markdown",
     "metadata": {},
     "source": [
      "Next, let us collect the number of clicks in a **list**."
     ]
    },
    {
     "cell_type": "code",
     "collapsed": false,
     "input": [
      "num_clicks = []\n",
      "f = open('pageviews.csv','r')\n",
      "for line in f:\n",
      "    if not contains_data_line(line):\n",
      "        continue\n",
      "    num_clicks.append(line)\n",
      "f.close()"
     ],
     "language": "python",
     "metadata": {},
     "outputs": []
    },
    {
     "cell_type": "markdown",
     "metadata": {},
     "source": [
      "You should see the first five days of the year 2013 below."
     ]
    },
    {
     "cell_type": "code",
     "collapsed": false,
     "input": [
      "num_clicks[0:5]"
     ],
     "language": "python",
     "metadata": {},
     "outputs": []
    },
    {
     "cell_type": "markdown",
     "metadata": {},
     "source": [
      "Unfortunately, num_clicks does not only list the number of clicks, but a bunch of other stuff. So let's write another function to get rid of what we don't want."
     ]
    },
    {
     "cell_type": "code",
     "collapsed": false,
     "input": [
      "def get_num_clicks_from_line(myline):\n",
      "    num_clicks = myline.strip().split(',')[1].replace('\"','')\n",
      "    return int(num_clicks)"
     ],
     "language": "python",
     "metadata": {},
     "outputs": []
    },
    {
     "cell_type": "markdown",
     "metadata": {},
     "source": [
      "Check below to see that num_clicks now shows what we really want: Just the number of clicks."
     ]
    },
    {
     "cell_type": "code",
     "collapsed": false,
     "input": [
      "num_clicks = []\n",
      "f = open('pageviews.csv','r')\n",
      "for line in f:\n",
      "    if not contains_data_line(line):\n",
      "        continue\n",
      "    num_clicks.append(get_num_clicks_from_line(line))\n",
      "f.close()\n",
      "print num_clicks[0:5]"
     ],
     "language": "python",
     "metadata": {},
     "outputs": []
    },
    {
     "cell_type": "markdown",
     "metadata": {},
     "source": [
      "So far, so good. Finally, let's plot our list. Well, turns out, python does not plot lists. We will use the library **numpy** to convert the list to an array. For the actual plotting we use the **pyplot** module from the library **matplotlib**. Finally, we tell the notebook that we want to display the plots right here in the notebook."
     ]
    },
    {
     "cell_type": "code",
     "collapsed": false,
     "input": [
      "import numpy as np\n",
      "import matplotlib.pyplot as plt\n",
      "%pylab inline"
     ],
     "language": "python",
     "metadata": {},
     "outputs": []
    },
    {
     "cell_type": "markdown",
     "metadata": {},
     "source": [
      "The actual plotting is now straight forward."
     ]
    },
    {
     "cell_type": "code",
     "collapsed": false,
     "input": [
      "myarray = np.asarray(num_clicks)\n",
      "plt.plot(myarray)\n",
      "plt.xlabel('Days after January 1st 2013')\n",
      "plt.ylabel('Number of clicks')\n",
      "plt.title('Total number of clicks: ' + str(np.sum(myarray)))\n",
      "plt.show()\n",
      "plt.savefig('MER_clicks_Winter_2013.png')"
     ],
     "language": "python",
     "metadata": {},
     "outputs": []
    },
    {
     "cell_type": "markdown",
     "metadata": {},
     "source": [
      "If you want to learn more on how to plot cool stuff in python, visit http://matplotlib.org/gallery.html\n",
      "    \n",
      "In fact, the **loadpy** magic makes toying with their examples super convenient."
     ]
    },
    {
     "cell_type": "code",
     "collapsed": false,
     "input": [
      "%loadpy http://matplotlib.org/mpl_examples/mplot3d/polys3d_demo.py"
     ],
     "language": "python",
     "metadata": {},
     "outputs": []
    },
    {
     "cell_type": "markdown",
     "metadata": {},
     "source": [
      "# Challenge:\n",
      "\n",
      "The full MER clicks data set has another section, with more detailed information on the most visited pages. We would like to know on which pages students spent the most time on. Create a function that\n",
      "\n",
      "* takes one input: The name of the input csv file\n",
      "* plots the graphs from above\n",
      "* returns one output: A list with the **Top 10** pages, ranked by the average time spent on these pages.\n",
      "    \n",
      "You can use the helper functions above, but note that `contains_data_line` needs to be modifies to distinguish between per-page data and total-clicks data. A dictionary may be a good way of storing the page name (as key) with the average time spent (as value). So you will need something similar to `get_num_clicks_from_line` for per-page data.\n",
      "\n",
      "The new input files can be found here:\n",
      "    \n",
      "http://www.math.ubc.ca/~konradbe/Math701/Analytics_Fall2012.csv\n",
      "    \n",
      "http://www.math.ubc.ca/~konradbe/Math701/Analytics_Winter2013.csv\n",
      "\n",
      "http://www.math.ubc.ca/~konradbe/Math701/Analytics_Fall2013.csv\n",
      "    "
     ]
    },
    {
     "cell_type": "code",
     "collapsed": false,
     "input": [
      "# work goes here"
     ],
     "language": "python",
     "metadata": {},
     "outputs": []
    },
    {
     "cell_type": "markdown",
     "metadata": {},
     "source": [
      "# SOLUTION TO CHALLENGE"
     ]
    },
    {
     "cell_type": "code",
     "collapsed": false,
     "input": [
      "import numpy as np\n",
      "import matplotlib.pyplot as plt\n",
      "%pylab inline"
     ],
     "language": "python",
     "metadata": {},
     "outputs": [
      {
       "output_type": "stream",
       "stream": "stdout",
       "text": [
        "\n",
        "Welcome to pylab, a matplotlib-based Python environment [backend: module://IPython.kernel.zmq.pylab.backend_inline].\n",
        "For more information, type 'help(pylab)'.\n"
       ]
      }
     ],
     "prompt_number": 1
    },
    {
     "cell_type": "code",
     "collapsed": false,
     "input": [
      "def line_type(line):\n",
      "    if line.count('/') in [0,1]:\n",
      "        return 'not_data'\n",
      "    if line.count('/') in [2]:\n",
      "        return 'clicks'\n",
      "    if line.count('/') in [3,4,5]:\n",
      "        return 'page'\n",
      "    return 'other'\n",
      "\n",
      "def time_in_sec(mytime):\n",
      "    h,m,s = mytime.split(':')\n",
      "    return int(s) + int(m)*60 + int(h)*60*60\n",
      "\n",
      "def get_avg_time(line):\n",
      "    avg_time = line.strip().split(',')[4]\n",
      "    return time_in_sec(avg_time)\n",
      "\n",
      "def get_page_name(line):\n",
      "    page_name = line.strip().split(',')[0]\n",
      "    return page_name\n",
      "\n",
      "def get_clicks(line):\n",
      "    return int(line.strip().split(',')[1])\n",
      "\n",
      "def plot_clicks(num_clicks):\n",
      "    myarray = np.asarray(num_clicks)\n",
      "    plt.plot(myarray)\n",
      "    plt.xlabel('Days since start of term')\n",
      "    plt.ylabel('Number of clicks')\n",
      "    plt.title('Total number of clicks: ' + str(np.sum(myarray)))\n",
      "    plt.show()\n",
      "    \n",
      "def top_ten(dict_page_time):\n",
      "    # create two lists, sort avg_time and get page name from page_name\n",
      "    page_name = []\n",
      "    avg_time = []\n",
      "    for key in dict_page_time.keys():\n",
      "        page_name.append(key)\n",
      "        avg_time.append(dict_page_time[key])\n",
      "    top_ten_times = sorted(avg_time, reverse=True)[:10] # there is faster (but less convenient) ways to get the top ten elements of a list. You don't have to sort the full list (which takes O(n log(n))) and can do this in O(n).\n",
      "    top_ten_pages = []\n",
      "    for time in top_ten_times:\n",
      "        top_ten_pages.append(page_name[avg_time.index(time)] + ' (' + str(time) + 's)')\n",
      "    return top_ten_pages\n",
      "    "
     ],
     "language": "python",
     "metadata": {},
     "outputs": [],
     "prompt_number": 2
    },
    {
     "cell_type": "code",
     "collapsed": false,
     "input": [
      "def analyze_MER_data(filename):\n",
      "    f = open(filename,'r')\n",
      "    num_clicks = []\n",
      "    dict_page_time = {}\n",
      "    \n",
      "    for line in f:\n",
      "        if 'not_data' == line_type(line):\n",
      "            continue\n",
      "        elif 'page' == line_type(line):\n",
      "            dict_page_time[get_page_name(line)] = get_avg_time(line)\n",
      "        elif 'clicks' == line_type(line):\n",
      "            num_clicks.append(get_clicks(line))\n",
      "        else:\n",
      "            print line\n",
      "                \n",
      "    plot_clicks(num_clicks)\n",
      "    return top_ten(dict_page_time)"
     ],
     "language": "python",
     "metadata": {},
     "outputs": [],
     "prompt_number": 3
    },
    {
     "cell_type": "code",
     "collapsed": false,
     "input": [
      "top_ten_list_Fall2012 = analyze_MER_data('Analytics_Fall2012.csv')\n",
      "top_ten_list_Winter2013 = analyze_MER_data('Analytics_Winter2013.csv')\n",
      "top_ten_list_Fall2013 = analyze_MER_data('Analytics_Fall2013.csv')\n",
      "print 'Fall 2012\\n',top_ten_list_Fall2012\n",
      "print 'Winter 2013\\n',top_ten_list_Winter2013\n",
      "print 'Fall 2013\\n',top_ten_list_Fall2013"
     ],
     "language": "python",
     "metadata": {},
     "outputs": [
      {
       "output_type": "display_data",
       "png": "[encoded data removed]",
       "text": [
        "<matplotlib.figure.Figure at 0x85e8850>"
       ]
      },
      {
       "output_type": "display_data",
       "png": "[encoded data removed]",
       "text": [
        "<matplotlib.figure.Figure at 0x86341f0>"
       ]
      },
      {
       "output_type": "display_data",
       "png": "[encoded data removed]",
       "text": [
        "<matplotlib.figure.Figure at 0x83c0f10>"
       ]
      },
      {
       "output_type": "stream",
       "stream": "stdout",
       "text": [
        "Fall 2012\n",
        "['/Science:Math_Exam_Resources/Courses/MATH104/December_2011/Question_3 (432s)', '/Science:Math_Exam_Resources/Courses/MATH104/December_2010/Question_6 (428s)', '/Science:Math_Exam_Resources/Courses/MATH104/December_2011/Question_4 (424s)', '/Science:Math_Exam_Resources/Courses/MATH102/December_2011/Question_3 (377s)', '/Science:Math_Exam_Resources/Courses/MATH104/December_2010/Question_4 (367s)', '/Science:Math_Exam_Resources/Courses/MATH104/December_2011/Question_1_(e) (355s)', '/Science:Math_Exam_Resources/Courses/MATH104/December_2010/Question_5 (351s)', '/Science:Math_Exam_Resources/Courses/MATH110/December_2011/Question_06 (338s)', '/Science:Math_Exam_Resources/Courses/MATH102/December_2011/Question_5 (311s)', '/Science:Math_Exam_Resources/Courses/MATH102/December_2011/Question_1_(b)_iii (305s)']\n",
        "Winter 2013\n",
        "['/Science:Math_Exam_Resources/Courses/MATH103/April_2011/Question_2_(c) (446s)', '/Science:Math_Exam_Resources/Courses/MATH101/April_2010/Question_4 (444s)', '/Science:Math_Exam_Resources/Courses/MATH105/April_2011/Question_6 (415s)', '/Science:Math_Exam_Resources/Courses/MATH105/April_2011/Question_3 (387s)', '/Science:Math_Exam_Resources/Courses/MATH105/April_2012/Question_8_(h) (385s)', '/Science:Math_Exam_Resources/Courses/MATH105/April_2012/Question_8_(h) (385s)', '/Science:Math_Exam_Resources/Courses/MATH105/April_2012/Question_1_(c) (376s)', '/Science:Math_Exam_Resources/Courses/MATH101/April_2012/Question_1_(j) (370s)', '/Science:Math_Exam_Resources/Courses/MATH103/April_2012/Question_2_(b) (343s)', '/Science:Math_Exam_Resources/Courses/MATH103/April_2012/Question_2_(c) (342s)']\n",
        "Fall 2013\n",
        "['/Science:Math_Exam_Resources/Courses/MATH104/December_2011/Question_3 (427s)', '/Science:Math_Exam_Resources/Courses/MATH104/December_2011/Question_4 (410s)', '/Science:Math_Exam_Resources/Courses/MATH104/December_2010/Question_6 (405s)', '/Science:Math_Exam_Resources/Courses/MATH100/December_2011/Question_7 (393s)', '/Science:Math_Exam_Resources/Courses/MATH100/December_2011/Question_8 (384s)', '/Science:Math_Exam_Resources/Courses/MATH104/December_2012/Question_3 (377s)', '/Science:Math_Exam_Resources/Courses/MATH104/December_2010/Question_4 (374s)', '/Science:Math_Exam_Resources/Courses/MATH100/December_2010/Question_7 (370s)', '/Science:Math_Exam_Resources/Courses/MATH104/December_2010/Question_5 (362s)', '/Science:Math_Exam_Resources/Courses/MATH104/December_2011/Question_1_(e) (360s)']\n"
       ]
      }
     ],
     "prompt_number": 4
    },
    {
     "cell_type": "code",
     "collapsed": false,
     "input": [
      "\n"
     ],
     "language": "python",
     "metadata": {},
     "outputs": []
    }
   ],
   "metadata": {}
  }
 ]
}